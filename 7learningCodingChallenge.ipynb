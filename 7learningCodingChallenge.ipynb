{
 "cells": [
  {
   "cell_type": "code",
   "execution_count": 1,
   "metadata": {},
   "outputs": [],
   "source": [
    "import pandas as pd\n",
    "import numpy as np\n",
    "import torch\n",
    "import torch.nn as nn\n",
    "import torch.optim as optim\n",
    "from torch.utils.data import Dataset, DataLoader\n",
    "from sklearn.model_selection import train_test_split\n",
    "from sklearn.preprocessing import StandardScaler\n",
    "from sklearn.metrics import classification_report"
   ]
  },
  {
   "cell_type": "markdown",
   "metadata": {},
   "source": [
    "##### Query for downloading the data from Google Cloud BIGQUERY"
   ]
  },
  {
   "cell_type": "raw",
   "metadata": {},
   "source": [
    "SELECT\n",
    "  *,\n",
    "  FORMAT_TIMESTAMP('%Y-%m-%d', TIMESTAMP(CONCAT(CAST(year AS STRING), '-', CAST(month AS STRING), '-', CAST(day AS STRING)))) AS formatted_date\n",
    "FROM\n",
    "  `bigquery-public-data.samples.gsod`\n",
    "WHERE\n",
    "  year BETWEEN 2005 AND 2009\n",
    "  AND station_number BETWEEN 725300 AND 726300"
   ]
  },
  {
   "cell_type": "markdown",
   "metadata": {},
   "source": [
    "##### The dataset was downloaded as csv and later uploaded in Visual Studio where futher processing was performed"
   ]
  },
  {
   "cell_type": "code",
   "execution_count": 2,
   "metadata": {},
   "outputs": [
    {
     "name": "stderr",
     "output_type": "stream",
     "text": [
      "/tmp/ipykernel_573012/1797354241.py:2: DtypeWarning: Columns (20) have mixed types. Specify dtype option on import or set low_memory=False.\n",
      "  df=pd.read_csv('/root/code/thesis/codeFolder/LatestDataInUse/csv/7learnings.csv')\n"
     ]
    }
   ],
   "source": [
    "#importing dataset by reading csv file (The data was downloaded from Google Cloud using BIGQUERY)\n",
    "df=pd.read_csv('/root/code/thesis/codeFolder/LatestDataInUse/csv/7learnings.csv')"
   ]
  },
  {
   "cell_type": "code",
   "execution_count": 3,
   "metadata": {},
   "outputs": [
    {
     "data": {
      "text/html": [
       "<div>\n",
       "<style scoped>\n",
       "    .dataframe tbody tr th:only-of-type {\n",
       "        vertical-align: middle;\n",
       "    }\n",
       "\n",
       "    .dataframe tbody tr th {\n",
       "        vertical-align: top;\n",
       "    }\n",
       "\n",
       "    .dataframe thead th {\n",
       "        text-align: right;\n",
       "    }\n",
       "</style>\n",
       "<table border=\"1\" class=\"dataframe\">\n",
       "  <thead>\n",
       "    <tr style=\"text-align: right;\">\n",
       "      <th></th>\n",
       "      <th>station_number</th>\n",
       "      <th>wban_number</th>\n",
       "      <th>year</th>\n",
       "      <th>month</th>\n",
       "      <th>day</th>\n",
       "      <th>mean_temp</th>\n",
       "      <th>num_mean_temp_samples</th>\n",
       "      <th>mean_dew_point</th>\n",
       "      <th>num_mean_dew_point_samples</th>\n",
       "      <th>mean_sealevel_pressure</th>\n",
       "      <th>...</th>\n",
       "      <th>min_temperature_explicit</th>\n",
       "      <th>total_precipitation</th>\n",
       "      <th>snow_depth</th>\n",
       "      <th>fog</th>\n",
       "      <th>rain</th>\n",
       "      <th>snow</th>\n",
       "      <th>hail</th>\n",
       "      <th>thunder</th>\n",
       "      <th>tornado</th>\n",
       "      <th>formatted_date</th>\n",
       "    </tr>\n",
       "  </thead>\n",
       "  <tbody>\n",
       "    <tr>\n",
       "      <th>0</th>\n",
       "      <td>725940</td>\n",
       "      <td>99999</td>\n",
       "      <td>2005</td>\n",
       "      <td>1</td>\n",
       "      <td>25</td>\n",
       "      <td>51.299999</td>\n",
       "      <td>4</td>\n",
       "      <td>45.299999</td>\n",
       "      <td>4.0</td>\n",
       "      <td>1013.500000</td>\n",
       "      <td>...</td>\n",
       "      <td>NaN</td>\n",
       "      <td>0.00</td>\n",
       "      <td>NaN</td>\n",
       "      <td>False</td>\n",
       "      <td>False</td>\n",
       "      <td>False</td>\n",
       "      <td>False</td>\n",
       "      <td>False</td>\n",
       "      <td>False</td>\n",
       "      <td>2005-01-25</td>\n",
       "    </tr>\n",
       "    <tr>\n",
       "      <th>1</th>\n",
       "      <td>725940</td>\n",
       "      <td>99999</td>\n",
       "      <td>2005</td>\n",
       "      <td>3</td>\n",
       "      <td>7</td>\n",
       "      <td>51.500000</td>\n",
       "      <td>4</td>\n",
       "      <td>48.000000</td>\n",
       "      <td>4.0</td>\n",
       "      <td>1025.000000</td>\n",
       "      <td>...</td>\n",
       "      <td>NaN</td>\n",
       "      <td>0.00</td>\n",
       "      <td>NaN</td>\n",
       "      <td>False</td>\n",
       "      <td>False</td>\n",
       "      <td>False</td>\n",
       "      <td>False</td>\n",
       "      <td>False</td>\n",
       "      <td>False</td>\n",
       "      <td>2005-03-07</td>\n",
       "    </tr>\n",
       "    <tr>\n",
       "      <th>2</th>\n",
       "      <td>725940</td>\n",
       "      <td>99999</td>\n",
       "      <td>2005</td>\n",
       "      <td>5</td>\n",
       "      <td>11</td>\n",
       "      <td>51.000000</td>\n",
       "      <td>4</td>\n",
       "      <td>45.700001</td>\n",
       "      <td>4.0</td>\n",
       "      <td>1021.799988</td>\n",
       "      <td>...</td>\n",
       "      <td>NaN</td>\n",
       "      <td>0.01</td>\n",
       "      <td>NaN</td>\n",
       "      <td>False</td>\n",
       "      <td>False</td>\n",
       "      <td>False</td>\n",
       "      <td>False</td>\n",
       "      <td>False</td>\n",
       "      <td>False</td>\n",
       "      <td>2005-05-11</td>\n",
       "    </tr>\n",
       "    <tr>\n",
       "      <th>3</th>\n",
       "      <td>725869</td>\n",
       "      <td>99999</td>\n",
       "      <td>2005</td>\n",
       "      <td>1</td>\n",
       "      <td>27</td>\n",
       "      <td>30.200001</td>\n",
       "      <td>5</td>\n",
       "      <td>26.600000</td>\n",
       "      <td>5.0</td>\n",
       "      <td>NaN</td>\n",
       "      <td>...</td>\n",
       "      <td>NaN</td>\n",
       "      <td>0.00</td>\n",
       "      <td>NaN</td>\n",
       "      <td>False</td>\n",
       "      <td>False</td>\n",
       "      <td>False</td>\n",
       "      <td>False</td>\n",
       "      <td>False</td>\n",
       "      <td>False</td>\n",
       "      <td>2005-01-27</td>\n",
       "    </tr>\n",
       "    <tr>\n",
       "      <th>4</th>\n",
       "      <td>725827</td>\n",
       "      <td>99999</td>\n",
       "      <td>2005</td>\n",
       "      <td>10</td>\n",
       "      <td>23</td>\n",
       "      <td>55.000000</td>\n",
       "      <td>5</td>\n",
       "      <td>28.799999</td>\n",
       "      <td>5.0</td>\n",
       "      <td>1015.599976</td>\n",
       "      <td>...</td>\n",
       "      <td>NaN</td>\n",
       "      <td>0.00</td>\n",
       "      <td>NaN</td>\n",
       "      <td>False</td>\n",
       "      <td>False</td>\n",
       "      <td>False</td>\n",
       "      <td>False</td>\n",
       "      <td>False</td>\n",
       "      <td>False</td>\n",
       "      <td>2005-10-23</td>\n",
       "    </tr>\n",
       "  </tbody>\n",
       "</table>\n",
       "<p>5 rows × 32 columns</p>\n",
       "</div>"
      ],
      "text/plain": [
       "   station_number  wban_number  year  month  day  mean_temp  \\\n",
       "0          725940        99999  2005      1   25  51.299999   \n",
       "1          725940        99999  2005      3    7  51.500000   \n",
       "2          725940        99999  2005      5   11  51.000000   \n",
       "3          725869        99999  2005      1   27  30.200001   \n",
       "4          725827        99999  2005     10   23  55.000000   \n",
       "\n",
       "   num_mean_temp_samples  mean_dew_point  num_mean_dew_point_samples  \\\n",
       "0                      4       45.299999                         4.0   \n",
       "1                      4       48.000000                         4.0   \n",
       "2                      4       45.700001                         4.0   \n",
       "3                      5       26.600000                         5.0   \n",
       "4                      5       28.799999                         5.0   \n",
       "\n",
       "   mean_sealevel_pressure  ...  min_temperature_explicit  total_precipitation  \\\n",
       "0             1013.500000  ...                       NaN                 0.00   \n",
       "1             1025.000000  ...                       NaN                 0.00   \n",
       "2             1021.799988  ...                       NaN                 0.01   \n",
       "3                     NaN  ...                       NaN                 0.00   \n",
       "4             1015.599976  ...                       NaN                 0.00   \n",
       "\n",
       "   snow_depth    fog   rain   snow   hail  thunder  tornado  formatted_date  \n",
       "0         NaN  False  False  False  False    False    False      2005-01-25  \n",
       "1         NaN  False  False  False  False    False    False      2005-03-07  \n",
       "2         NaN  False  False  False  False    False    False      2005-05-11  \n",
       "3         NaN  False  False  False  False    False    False      2005-01-27  \n",
       "4         NaN  False  False  False  False    False    False      2005-10-23  \n",
       "\n",
       "[5 rows x 32 columns]"
      ]
     },
     "execution_count": 3,
     "metadata": {},
     "output_type": "execute_result"
    }
   ],
   "source": [
    "df.head()"
   ]
  },
  {
   "cell_type": "markdown",
   "metadata": {},
   "source": [
    "# Data Preprocessing"
   ]
  },
  {
   "cell_type": "code",
   "execution_count": 4,
   "metadata": {},
   "outputs": [],
   "source": [
    "# Filtering stations 725300 to 725330 that have information from 2005 till 2009.\n",
    "df = df[(df['station_number'] >= 725300) & (df['station_number'] <= 725330)]\n",
    "\n",
    "# Specify the columns to drop \n",
    "# Some of these column like were irrelevant, some coulumns had missing values\n",
    "columns_to_drop = ['min_temperature', 'min_temperature_explicit','mean_station_pressure','mean_sealevel_pressure', 'num_mean_station_pressure_samples','year','month','day','snow_depth', 'num_mean_sealevel_pressure_samples', 'wban_number', 'num_mean_temp_samples','num_mean_dew_point_samples', 'num_mean_visibility_samples' ,'max_sustained_wind_speed','max_gust_wind_speed','max_temperature_explicit', 'num_mean_wind_speed_samples','tornado','max_temperature']\n",
    "\n",
    "# Drop the specified columns\n",
    "df_dropped = df.drop(columns=columns_to_drop)\n"
   ]
  },
  {
   "cell_type": "code",
   "execution_count": 5,
   "metadata": {},
   "outputs": [
    {
     "name": "stdout",
     "output_type": "stream",
     "text": [
      "['mean_wind_speed', 'total_precipitation']\n"
     ]
    }
   ],
   "source": [
    "# Checking columns with NAN values\n",
    "columns_with_nan = df_dropped.columns[df_dropped.isna().any()].tolist()\n",
    "\n",
    "print(columns_with_nan)\n"
   ]
  },
  {
   "cell_type": "markdown",
   "metadata": {},
   "source": [
    "### Strategies for dealing with missing values"
   ]
  },
  {
   "cell_type": "code",
   "execution_count": 6,
   "metadata": {},
   "outputs": [],
   "source": [
    "#### Strategy 1: Filling the missing values with mean values\n",
    "#data.fillna(data.mean(), inplace=True)\n",
    "\n",
    "### Strategy 2: Interpolating the missing values\n",
    "#df_dropped['mean_wind_speed'] = df_dropped['mean_wind_speed'].interpolate()\n",
    "#df_dropped['total_precipitation'] = df_dropped['total_precipitation'].interpolate()\n",
    "#df_dropped['mean_sealevel_pressure'] = df_dropped['mean_sealevel_pressure'].interpolate()\n",
    "\n",
    "### Strategy 3: Droping the missing rows\n",
    "df_dropped=df_dropped.dropna()"
   ]
  },
  {
   "cell_type": "markdown",
   "metadata": {},
   "source": [
    "##### Droping the rows with missing values reduces data size but other strategies are more likely to compromise data quality"
   ]
  },
  {
   "cell_type": "code",
   "execution_count": 7,
   "metadata": {},
   "outputs": [
    {
     "name": "stdout",
     "output_type": "stream",
     "text": [
      "[]\n"
     ]
    }
   ],
   "source": [
    "# Finding columns with NaN values\n",
    "columns_with_nan = df_dropped.columns[df_dropped.isna().any()].tolist()\n",
    "\n",
    "print(columns_with_nan)\n"
   ]
  },
  {
   "cell_type": "code",
   "execution_count": 8,
   "metadata": {},
   "outputs": [],
   "source": [
    "# Sorting the dataframe with respect to data and resting the dataframe index\n",
    "final_df = df_dropped.sort_values(by='formatted_date') \n",
    "final_df = final_df.reset_index(drop=True)"
   ]
  },
  {
   "cell_type": "code",
   "execution_count": 9,
   "metadata": {},
   "outputs": [
    {
     "data": {
      "text/html": [
       "<div>\n",
       "<style scoped>\n",
       "    .dataframe tbody tr th:only-of-type {\n",
       "        vertical-align: middle;\n",
       "    }\n",
       "\n",
       "    .dataframe tbody tr th {\n",
       "        vertical-align: top;\n",
       "    }\n",
       "\n",
       "    .dataframe thead th {\n",
       "        text-align: right;\n",
       "    }\n",
       "</style>\n",
       "<table border=\"1\" class=\"dataframe\">\n",
       "  <thead>\n",
       "    <tr style=\"text-align: right;\">\n",
       "      <th></th>\n",
       "      <th>station_number</th>\n",
       "      <th>mean_temp</th>\n",
       "      <th>mean_dew_point</th>\n",
       "      <th>mean_visibility</th>\n",
       "      <th>mean_wind_speed</th>\n",
       "      <th>total_precipitation</th>\n",
       "      <th>fog</th>\n",
       "      <th>rain</th>\n",
       "      <th>snow</th>\n",
       "      <th>hail</th>\n",
       "      <th>thunder</th>\n",
       "      <th>formatted_date</th>\n",
       "    </tr>\n",
       "  </thead>\n",
       "  <tbody>\n",
       "    <tr>\n",
       "      <th>0</th>\n",
       "      <td>725314</td>\n",
       "      <td>60.799999</td>\n",
       "      <td>57.599998</td>\n",
       "      <td>8.9</td>\n",
       "      <td>4.8</td>\n",
       "      <td>0.40</td>\n",
       "      <td>False</td>\n",
       "      <td>False</td>\n",
       "      <td>False</td>\n",
       "      <td>False</td>\n",
       "      <td>False</td>\n",
       "      <td>2005-01-02</td>\n",
       "    </tr>\n",
       "    <tr>\n",
       "      <th>1</th>\n",
       "      <td>725300</td>\n",
       "      <td>32.299999</td>\n",
       "      <td>29.400000</td>\n",
       "      <td>7.7</td>\n",
       "      <td>9.3</td>\n",
       "      <td>0.34</td>\n",
       "      <td>True</td>\n",
       "      <td>True</td>\n",
       "      <td>True</td>\n",
       "      <td>True</td>\n",
       "      <td>True</td>\n",
       "      <td>2005-01-04</td>\n",
       "    </tr>\n",
       "    <tr>\n",
       "      <th>2</th>\n",
       "      <td>725330</td>\n",
       "      <td>24.799999</td>\n",
       "      <td>20.400000</td>\n",
       "      <td>9.7</td>\n",
       "      <td>7.7</td>\n",
       "      <td>0.03</td>\n",
       "      <td>False</td>\n",
       "      <td>False</td>\n",
       "      <td>False</td>\n",
       "      <td>False</td>\n",
       "      <td>False</td>\n",
       "      <td>2005-01-07</td>\n",
       "    </tr>\n",
       "    <tr>\n",
       "      <th>3</th>\n",
       "      <td>725305</td>\n",
       "      <td>16.700001</td>\n",
       "      <td>13.100000</td>\n",
       "      <td>8.4</td>\n",
       "      <td>6.9</td>\n",
       "      <td>0.01</td>\n",
       "      <td>False</td>\n",
       "      <td>False</td>\n",
       "      <td>False</td>\n",
       "      <td>False</td>\n",
       "      <td>False</td>\n",
       "      <td>2005-01-07</td>\n",
       "    </tr>\n",
       "    <tr>\n",
       "      <th>4</th>\n",
       "      <td>725316</td>\n",
       "      <td>28.600000</td>\n",
       "      <td>25.500000</td>\n",
       "      <td>7.3</td>\n",
       "      <td>5.4</td>\n",
       "      <td>0.10</td>\n",
       "      <td>True</td>\n",
       "      <td>True</td>\n",
       "      <td>True</td>\n",
       "      <td>True</td>\n",
       "      <td>True</td>\n",
       "      <td>2005-01-08</td>\n",
       "    </tr>\n",
       "  </tbody>\n",
       "</table>\n",
       "</div>"
      ],
      "text/plain": [
       "   station_number  mean_temp  mean_dew_point  mean_visibility  \\\n",
       "0          725314  60.799999       57.599998              8.9   \n",
       "1          725300  32.299999       29.400000              7.7   \n",
       "2          725330  24.799999       20.400000              9.7   \n",
       "3          725305  16.700001       13.100000              8.4   \n",
       "4          725316  28.600000       25.500000              7.3   \n",
       "\n",
       "   mean_wind_speed  total_precipitation    fog   rain   snow   hail  thunder  \\\n",
       "0              4.8                 0.40  False  False  False  False    False   \n",
       "1              9.3                 0.34   True   True   True   True     True   \n",
       "2              7.7                 0.03  False  False  False  False    False   \n",
       "3              6.9                 0.01  False  False  False  False    False   \n",
       "4              5.4                 0.10   True   True   True   True     True   \n",
       "\n",
       "  formatted_date  \n",
       "0     2005-01-02  \n",
       "1     2005-01-04  \n",
       "2     2005-01-07  \n",
       "3     2005-01-07  \n",
       "4     2005-01-08  "
      ]
     },
     "execution_count": 9,
     "metadata": {},
     "output_type": "execute_result"
    }
   ],
   "source": [
    "final_df.head(5)"
   ]
  },
  {
   "cell_type": "code",
   "execution_count": 10,
   "metadata": {},
   "outputs": [
    {
     "data": {
      "text/plain": [
       "Index(['station_number', 'mean_temp', 'mean_dew_point', 'mean_visibility',\n",
       "       'mean_wind_speed', 'total_precipitation', 'fog', 'rain', 'snow', 'hail',\n",
       "       'thunder', 'formatted_date'],\n",
       "      dtype='object')"
      ]
     },
     "execution_count": 10,
     "metadata": {},
     "output_type": "execute_result"
    }
   ],
   "source": [
    "final_df.columns"
   ]
  },
  {
   "cell_type": "code",
   "execution_count": 11,
   "metadata": {},
   "outputs": [],
   "source": [
    "# Converting the categorical values to numerical values\n",
    "final_df['fog'] = final_df['fog'].astype(int)\n",
    "final_df['rain'] = final_df['rain'].astype(int)\n",
    "final_df['hail'] = final_df['hail'].astype(int)\n",
    "final_df['thunder'] = final_df['thunder'].astype(int)\n",
    "final_df['snow'] = final_df['snow'].astype(int)"
   ]
  },
  {
   "cell_type": "code",
   "execution_count": 12,
   "metadata": {},
   "outputs": [
    {
     "data": {
      "text/html": [
       "<div>\n",
       "<style scoped>\n",
       "    .dataframe tbody tr th:only-of-type {\n",
       "        vertical-align: middle;\n",
       "    }\n",
       "\n",
       "    .dataframe tbody tr th {\n",
       "        vertical-align: top;\n",
       "    }\n",
       "\n",
       "    .dataframe thead th {\n",
       "        text-align: right;\n",
       "    }\n",
       "</style>\n",
       "<table border=\"1\" class=\"dataframe\">\n",
       "  <thead>\n",
       "    <tr style=\"text-align: right;\">\n",
       "      <th></th>\n",
       "      <th>station_number</th>\n",
       "      <th>mean_temp</th>\n",
       "      <th>mean_dew_point</th>\n",
       "      <th>mean_visibility</th>\n",
       "      <th>mean_wind_speed</th>\n",
       "      <th>total_precipitation</th>\n",
       "      <th>fog</th>\n",
       "      <th>rain</th>\n",
       "      <th>snow</th>\n",
       "      <th>hail</th>\n",
       "      <th>thunder</th>\n",
       "      <th>formatted_date</th>\n",
       "    </tr>\n",
       "  </thead>\n",
       "  <tbody>\n",
       "    <tr>\n",
       "      <th>0</th>\n",
       "      <td>725314</td>\n",
       "      <td>60.799999</td>\n",
       "      <td>57.599998</td>\n",
       "      <td>8.9</td>\n",
       "      <td>4.8</td>\n",
       "      <td>0.40</td>\n",
       "      <td>0</td>\n",
       "      <td>0</td>\n",
       "      <td>0</td>\n",
       "      <td>0</td>\n",
       "      <td>0</td>\n",
       "      <td>2005-01-02</td>\n",
       "    </tr>\n",
       "    <tr>\n",
       "      <th>1</th>\n",
       "      <td>725300</td>\n",
       "      <td>32.299999</td>\n",
       "      <td>29.400000</td>\n",
       "      <td>7.7</td>\n",
       "      <td>9.3</td>\n",
       "      <td>0.34</td>\n",
       "      <td>1</td>\n",
       "      <td>1</td>\n",
       "      <td>1</td>\n",
       "      <td>1</td>\n",
       "      <td>1</td>\n",
       "      <td>2005-01-04</td>\n",
       "    </tr>\n",
       "    <tr>\n",
       "      <th>2</th>\n",
       "      <td>725330</td>\n",
       "      <td>24.799999</td>\n",
       "      <td>20.400000</td>\n",
       "      <td>9.7</td>\n",
       "      <td>7.7</td>\n",
       "      <td>0.03</td>\n",
       "      <td>0</td>\n",
       "      <td>0</td>\n",
       "      <td>0</td>\n",
       "      <td>0</td>\n",
       "      <td>0</td>\n",
       "      <td>2005-01-07</td>\n",
       "    </tr>\n",
       "    <tr>\n",
       "      <th>3</th>\n",
       "      <td>725305</td>\n",
       "      <td>16.700001</td>\n",
       "      <td>13.100000</td>\n",
       "      <td>8.4</td>\n",
       "      <td>6.9</td>\n",
       "      <td>0.01</td>\n",
       "      <td>0</td>\n",
       "      <td>0</td>\n",
       "      <td>0</td>\n",
       "      <td>0</td>\n",
       "      <td>0</td>\n",
       "      <td>2005-01-07</td>\n",
       "    </tr>\n",
       "    <tr>\n",
       "      <th>4</th>\n",
       "      <td>725316</td>\n",
       "      <td>28.600000</td>\n",
       "      <td>25.500000</td>\n",
       "      <td>7.3</td>\n",
       "      <td>5.4</td>\n",
       "      <td>0.10</td>\n",
       "      <td>1</td>\n",
       "      <td>1</td>\n",
       "      <td>1</td>\n",
       "      <td>1</td>\n",
       "      <td>1</td>\n",
       "      <td>2005-01-08</td>\n",
       "    </tr>\n",
       "  </tbody>\n",
       "</table>\n",
       "</div>"
      ],
      "text/plain": [
       "   station_number  mean_temp  mean_dew_point  mean_visibility  \\\n",
       "0          725314  60.799999       57.599998              8.9   \n",
       "1          725300  32.299999       29.400000              7.7   \n",
       "2          725330  24.799999       20.400000              9.7   \n",
       "3          725305  16.700001       13.100000              8.4   \n",
       "4          725316  28.600000       25.500000              7.3   \n",
       "\n",
       "   mean_wind_speed  total_precipitation  fog  rain  snow  hail  thunder  \\\n",
       "0              4.8                 0.40    0     0     0     0        0   \n",
       "1              9.3                 0.34    1     1     1     1        1   \n",
       "2              7.7                 0.03    0     0     0     0        0   \n",
       "3              6.9                 0.01    0     0     0     0        0   \n",
       "4              5.4                 0.10    1     1     1     1        1   \n",
       "\n",
       "  formatted_date  \n",
       "0     2005-01-02  \n",
       "1     2005-01-04  \n",
       "2     2005-01-07  \n",
       "3     2005-01-07  \n",
       "4     2005-01-08  "
      ]
     },
     "execution_count": 12,
     "metadata": {},
     "output_type": "execute_result"
    }
   ],
   "source": [
    "final_df.head()"
   ]
  },
  {
   "cell_type": "code",
   "execution_count": 13,
   "metadata": {},
   "outputs": [
    {
     "data": {
      "text/plain": [
       "(1524, 12)"
      ]
     },
     "execution_count": 13,
     "metadata": {},
     "output_type": "execute_result"
    }
   ],
   "source": [
    "final_df.shape"
   ]
  },
  {
   "cell_type": "code",
   "execution_count": 14,
   "metadata": {},
   "outputs": [
    {
     "data": {
      "text/plain": [
       "array([725300, 725305, 725314, 725315, 725316, 725317, 725320, 725326,\n",
       "       725327, 725330])"
      ]
     },
     "execution_count": 14,
     "metadata": {},
     "output_type": "execute_result"
    }
   ],
   "source": [
    "np.unique(final_df['station_number'])"
   ]
  },
  {
   "cell_type": "markdown",
   "metadata": {},
   "source": [
    "### The dataset has huge class imbalance with 1350 values representing class 0 \"no snow\" and only 174 values prepresenting class 1 \"snow\""
   ]
  },
  {
   "cell_type": "code",
   "execution_count": 15,
   "metadata": {},
   "outputs": [
    {
     "data": {
      "text/plain": [
       "0    1350\n",
       "1     174\n",
       "Name: snow, dtype: int64"
      ]
     },
     "execution_count": 15,
     "metadata": {},
     "output_type": "execute_result"
    }
   ],
   "source": [
    "final_df['snow'].value_counts()"
   ]
  },
  {
   "cell_type": "code",
   "execution_count": 16,
   "metadata": {},
   "outputs": [],
   "source": [
    "# Converting date to datetime\n",
    "final_df['formatted_date'] = pd.to_datetime(final_df['formatted_date'])\n",
    "\n",
    "# Sorting the data by station number and date\n",
    "final_df = final_df.sort_values(by=['station_number', 'formatted_date'])\n"
   ]
  },
  {
   "cell_type": "markdown",
   "metadata": {},
   "source": [
    "# Splitting the data into train and Test Split"
   ]
  },
  {
   "cell_type": "code",
   "execution_count": 17,
   "metadata": {},
   "outputs": [],
   "source": [
    "# Extracting features and target\n",
    "features = ['mean_temp', 'mean_dew_point', 'mean_visibility', 'mean_wind_speed', 'total_precipitation', 'fog', 'rain', 'hail', 'thunder']\n",
    "target = 'snow'\n",
    "\n",
    "X = final_df[features].values\n",
    "y = final_df[target].values\n",
    "\n",
    "# Normalizing the features to ensure equal weightage of all the variables\n",
    "scaler = StandardScaler()\n",
    "X_scaled = scaler.fit_transform(X)\n",
    "\n",
    "# Spliting the data into training and test sets\n",
    "X_train, X_test, y_train, y_test = train_test_split(X_scaled, y, test_size=0.2, random_state=42)\n",
    "\n",
    "# Converting to PyTorch tensors\n",
    "X_train = torch.tensor(X_train, dtype=torch.float32)\n",
    "X_test = torch.tensor(X_test, dtype=torch.float32)\n",
    "y_train = torch.tensor(y_train, dtype=torch.float32).unsqueeze(1)  # unsqueeze to add a dimension\n",
    "y_test = torch.tensor(y_test, dtype=torch.float32).unsqueeze(1)"
   ]
  },
  {
   "cell_type": "markdown",
   "metadata": {},
   "source": [
    "# Model"
   ]
  },
  {
   "cell_type": "code",
   "execution_count": 18,
   "metadata": {},
   "outputs": [],
   "source": [
    "# Defining the neural network model\n",
    "class SnowForecastModel(nn.Module):\n",
    "    def __init__(self):\n",
    "        super(SnowForecastModel, self).__init__()\n",
    "        self.fc1 = nn.Linear(len(features), 64)\n",
    "        self.fc2 = nn.Linear(64, 32)\n",
    "        self.fc3 = nn.Linear(32, 1)\n",
    "        self.sigmoid = nn.Sigmoid()\n",
    "        \n",
    "    def forward(self, x):\n",
    "        x = torch.relu(self.fc1(x))\n",
    "        x = torch.relu(self.fc2(x))\n",
    "        x = self.fc3(x)\n",
    "        x = self.sigmoid(x)\n",
    "        return x"
   ]
  },
  {
   "cell_type": "markdown",
   "metadata": {},
   "source": [
    "### Function to calculate accuracy"
   ]
  },
  {
   "cell_type": "code",
   "execution_count": 19,
   "metadata": {},
   "outputs": [],
   "source": [
    "# Function to calculate accuracy\n",
    "def calculate_accuracy(preds, labels):\n",
    "    predicted = preds.round()\n",
    "    correct = (predicted == labels).float()\n",
    "    accuracy = correct.sum() / len(correct)\n",
    "    return accuracy"
   ]
  },
  {
   "cell_type": "markdown",
   "metadata": {},
   "source": [
    "# Model Trainging and Evaluation"
   ]
  },
  {
   "cell_type": "code",
   "execution_count": 20,
   "metadata": {},
   "outputs": [
    {
     "name": "stdout",
     "output_type": "stream",
     "text": [
      "Epoch [1/50], Train Loss: 0.5888, Train Accuracy: 0.8778, Test Loss: 0.5705, Test Accuracy: 0.9180\n",
      "Epoch [2/50], Train Loss: 0.5783, Train Accuracy: 0.8786, Test Loss: 0.5601, Test Accuracy: 0.9246\n",
      "Epoch [3/50], Train Loss: 0.5679, Train Accuracy: 0.8884, Test Loss: 0.5498, Test Accuracy: 0.9410\n",
      "Epoch [4/50], Train Loss: 0.5575, Train Accuracy: 0.9221, Test Loss: 0.5395, Test Accuracy: 0.9705\n",
      "Epoch [5/50], Train Loss: 0.5472, Train Accuracy: 0.9598, Test Loss: 0.5291, Test Accuracy: 0.9902\n",
      "Epoch [6/50], Train Loss: 0.5368, Train Accuracy: 0.9795, Test Loss: 0.5188, Test Accuracy: 1.0000\n",
      "Epoch [7/50], Train Loss: 0.5265, Train Accuracy: 0.9893, Test Loss: 0.5085, Test Accuracy: 1.0000\n",
      "Epoch [8/50], Train Loss: 0.5160, Train Accuracy: 0.9918, Test Loss: 0.4981, Test Accuracy: 1.0000\n",
      "Epoch [9/50], Train Loss: 0.5056, Train Accuracy: 0.9975, Test Loss: 0.4877, Test Accuracy: 1.0000\n",
      "Epoch [10/50], Train Loss: 0.4950, Train Accuracy: 0.9984, Test Loss: 0.4772, Test Accuracy: 1.0000\n",
      "Epoch [11/50], Train Loss: 0.4843, Train Accuracy: 0.9992, Test Loss: 0.4665, Test Accuracy: 1.0000\n",
      "Epoch [12/50], Train Loss: 0.4734, Train Accuracy: 0.9992, Test Loss: 0.4555, Test Accuracy: 1.0000\n",
      "Epoch [13/50], Train Loss: 0.4624, Train Accuracy: 0.9992, Test Loss: 0.4444, Test Accuracy: 1.0000\n",
      "Epoch [14/50], Train Loss: 0.4511, Train Accuracy: 0.9992, Test Loss: 0.4330, Test Accuracy: 1.0000\n",
      "Epoch [15/50], Train Loss: 0.4396, Train Accuracy: 0.9992, Test Loss: 0.4214, Test Accuracy: 1.0000\n",
      "Epoch [16/50], Train Loss: 0.4279, Train Accuracy: 0.9992, Test Loss: 0.4097, Test Accuracy: 1.0000\n",
      "Epoch [17/50], Train Loss: 0.4161, Train Accuracy: 0.9992, Test Loss: 0.3978, Test Accuracy: 1.0000\n",
      "Epoch [18/50], Train Loss: 0.4041, Train Accuracy: 0.9992, Test Loss: 0.3858, Test Accuracy: 1.0000\n",
      "Epoch [19/50], Train Loss: 0.3920, Train Accuracy: 0.9992, Test Loss: 0.3738, Test Accuracy: 1.0000\n",
      "Epoch [20/50], Train Loss: 0.3798, Train Accuracy: 0.9992, Test Loss: 0.3616, Test Accuracy: 1.0000\n",
      "Epoch [21/50], Train Loss: 0.3676, Train Accuracy: 0.9992, Test Loss: 0.3495, Test Accuracy: 1.0000\n",
      "Epoch [22/50], Train Loss: 0.3553, Train Accuracy: 0.9992, Test Loss: 0.3373, Test Accuracy: 1.0000\n",
      "Epoch [23/50], Train Loss: 0.3430, Train Accuracy: 1.0000, Test Loss: 0.3252, Test Accuracy: 1.0000\n",
      "Epoch [24/50], Train Loss: 0.3307, Train Accuracy: 1.0000, Test Loss: 0.3130, Test Accuracy: 1.0000\n",
      "Epoch [25/50], Train Loss: 0.3184, Train Accuracy: 1.0000, Test Loss: 0.3009, Test Accuracy: 1.0000\n",
      "Epoch [26/50], Train Loss: 0.3062, Train Accuracy: 1.0000, Test Loss: 0.2889, Test Accuracy: 1.0000\n",
      "Epoch [27/50], Train Loss: 0.2941, Train Accuracy: 1.0000, Test Loss: 0.2770, Test Accuracy: 1.0000\n",
      "Epoch [28/50], Train Loss: 0.2820, Train Accuracy: 1.0000, Test Loss: 0.2653, Test Accuracy: 1.0000\n",
      "Epoch [29/50], Train Loss: 0.2701, Train Accuracy: 1.0000, Test Loss: 0.2536, Test Accuracy: 1.0000\n",
      "Epoch [30/50], Train Loss: 0.2584, Train Accuracy: 1.0000, Test Loss: 0.2421, Test Accuracy: 1.0000\n",
      "Epoch [31/50], Train Loss: 0.2468, Train Accuracy: 1.0000, Test Loss: 0.2309, Test Accuracy: 1.0000\n",
      "Epoch [32/50], Train Loss: 0.2354, Train Accuracy: 1.0000, Test Loss: 0.2199, Test Accuracy: 1.0000\n",
      "Epoch [33/50], Train Loss: 0.2242, Train Accuracy: 1.0000, Test Loss: 0.2091, Test Accuracy: 1.0000\n",
      "Epoch [34/50], Train Loss: 0.2134, Train Accuracy: 1.0000, Test Loss: 0.1987, Test Accuracy: 1.0000\n",
      "Epoch [35/50], Train Loss: 0.2028, Train Accuracy: 1.0000, Test Loss: 0.1886, Test Accuracy: 1.0000\n",
      "Epoch [36/50], Train Loss: 0.1926, Train Accuracy: 1.0000, Test Loss: 0.1788, Test Accuracy: 1.0000\n",
      "Epoch [37/50], Train Loss: 0.1827, Train Accuracy: 1.0000, Test Loss: 0.1693, Test Accuracy: 1.0000\n",
      "Epoch [38/50], Train Loss: 0.1731, Train Accuracy: 1.0000, Test Loss: 0.1602, Test Accuracy: 1.0000\n",
      "Epoch [39/50], Train Loss: 0.1639, Train Accuracy: 1.0000, Test Loss: 0.1515, Test Accuracy: 1.0000\n",
      "Epoch [40/50], Train Loss: 0.1550, Train Accuracy: 1.0000, Test Loss: 0.1431, Test Accuracy: 1.0000\n",
      "Epoch [41/50], Train Loss: 0.1466, Train Accuracy: 1.0000, Test Loss: 0.1351, Test Accuracy: 1.0000\n",
      "Epoch [42/50], Train Loss: 0.1384, Train Accuracy: 1.0000, Test Loss: 0.1274, Test Accuracy: 1.0000\n",
      "Epoch [43/50], Train Loss: 0.1307, Train Accuracy: 1.0000, Test Loss: 0.1201, Test Accuracy: 1.0000\n",
      "Epoch [44/50], Train Loss: 0.1233, Train Accuracy: 1.0000, Test Loss: 0.1132, Test Accuracy: 1.0000\n",
      "Epoch [45/50], Train Loss: 0.1163, Train Accuracy: 1.0000, Test Loss: 0.1067, Test Accuracy: 1.0000\n",
      "Epoch [46/50], Train Loss: 0.1096, Train Accuracy: 1.0000, Test Loss: 0.1004, Test Accuracy: 1.0000\n",
      "Epoch [47/50], Train Loss: 0.1033, Train Accuracy: 1.0000, Test Loss: 0.0946, Test Accuracy: 1.0000\n",
      "Epoch [48/50], Train Loss: 0.0974, Train Accuracy: 1.0000, Test Loss: 0.0890, Test Accuracy: 1.0000\n",
      "Epoch [49/50], Train Loss: 0.0917, Train Accuracy: 1.0000, Test Loss: 0.0838, Test Accuracy: 1.0000\n",
      "Epoch [50/50], Train Loss: 0.0864, Train Accuracy: 1.0000, Test Loss: 0.0789, Test Accuracy: 1.0000\n"
     ]
    }
   ],
   "source": [
    "# Instantiating the model, defining the loss function and the optimizer\n",
    "model = SnowForecastModel()\n",
    "criterion = nn.BCELoss()  # Binary Cross Entropy loss for binary classification\n",
    "optimizer = optim.Adam(model.parameters(), lr=0.001)\n",
    "\n",
    "# Training & evaluating the model\n",
    "num_epochs = 50\n",
    "for epoch in range(num_epochs):\n",
    "    model.train()\n",
    "    optimizer.zero_grad()\n",
    "    outputs = model(X_train)\n",
    "    train_loss = criterion(outputs, y_train)\n",
    "    train_loss.backward()\n",
    "    optimizer.step()\n",
    "\n",
    "    train_accuracy = calculate_accuracy(outputs, y_train)\n",
    "\n",
    "    model.eval()\n",
    "    with torch.no_grad():\n",
    "        test_outputs = model(X_test)\n",
    "        test_loss = criterion(test_outputs, y_test)\n",
    "        test_accuracy = calculate_accuracy(test_outputs, y_test)\n",
    "\n",
    "    \n",
    "    print(f'Epoch [{epoch+1}/{num_epochs}], Train Loss: {train_loss.item():.4f}, Train Accuracy: {train_accuracy.item():.4f}, Test Loss: {test_loss.item():.4f}, Test Accuracy: {test_accuracy.item():.4f}')"
   ]
  },
  {
   "cell_type": "code",
   "execution_count": 21,
   "metadata": {},
   "outputs": [
    {
     "name": "stdout",
     "output_type": "stream",
     "text": [
      "Classification Report:\n",
      "              precision    recall  f1-score   support\n",
      "\n",
      "         0.0       1.00      1.00      1.00       280\n",
      "         1.0       1.00      1.00      1.00        25\n",
      "\n",
      "    accuracy                           1.00       305\n",
      "   macro avg       1.00      1.00      1.00       305\n",
      "weighted avg       1.00      1.00      1.00       305\n",
      "\n"
     ]
    }
   ],
   "source": [
    "# printing classification report\n",
    "model.eval()\n",
    "with torch.no_grad():\n",
    "    test_outputs = model(X_test)\n",
    "    test_predictions = test_outputs.round().numpy()\n",
    "    print(f'Classification Report:\\n{classification_report(y_test.numpy(), test_predictions)}')"
   ]
  },
  {
   "cell_type": "code",
   "execution_count": null,
   "metadata": {},
   "outputs": [],
   "source": []
  },
  {
   "cell_type": "code",
   "execution_count": null,
   "metadata": {},
   "outputs": [],
   "source": []
  },
  {
   "cell_type": "code",
   "execution_count": null,
   "metadata": {},
   "outputs": [],
   "source": []
  },
  {
   "cell_type": "code",
   "execution_count": null,
   "metadata": {},
   "outputs": [],
   "source": []
  }
 ],
 "metadata": {
  "kernelspec": {
   "display_name": "usama",
   "language": "python",
   "name": "usama"
  }
 },
 "nbformat": 4,
 "nbformat_minor": 2
}
